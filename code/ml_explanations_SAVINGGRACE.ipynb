{
 "cells": [
  {
   "cell_type": "code",
   "execution_count": 1,
   "metadata": {
    "ExecuteTime": {
     "end_time": "2020-12-16T20:04:46.122062Z",
     "start_time": "2020-12-16T20:04:36.425060Z"
    }
   },
   "outputs": [],
   "source": [
    "import numpy as np\n",
    "import pandas as pd\n",
    "from sklearn.model_selection import train_test_split\n",
    "from sklearn.ensemble import RandomForestClassifier, RandomForestRegressor\n",
    "from sklearn.tree import DecisionTreeClassifier\n",
    "from sklearn.preprocessing import LabelEncoder\n",
    "import sklearn.metrics as metrics\n",
    "\n",
    "import time\n",
    "\n",
    "import os\n",
    "\n",
    "# import eli5\n",
    "\n",
    "from sklearn import tree\n",
    "# import graphviz\n",
    "\n",
    "from matplotlib import pyplot as plt\n",
    "# from pdpbox import pdp, get_dataset, info_plots\n",
    "\n",
    "import shap\n",
    "\n",
    "import warnings\n",
    "\n",
    "import scipy as sp\n",
    "\n",
    "import lime\n",
    "from lime import lime_tabular\n",
    "# import lightgbm as lgb\n",
    "import seaborn as sns\n",
    "\n",
    "import imblearn\n",
    "\n",
    "\n",
    "import plotly"
   ]
  },
  {
   "cell_type": "code",
   "execution_count": 2,
   "metadata": {
    "ExecuteTime": {
     "end_time": "2020-12-16T20:04:46.327093Z",
     "start_time": "2020-12-16T20:04:46.155061Z"
    }
   },
   "outputs": [],
   "source": [
    "data = pd.read_csv(\"../data/alge_data/epoct_ezvir_05dec2018_unlabeled_Jan.csv\")"
   ]
  },
  {
   "cell_type": "code",
   "execution_count": 3,
   "metadata": {
    "ExecuteTime": {
     "end_time": "2020-12-16T20:04:46.343096Z",
     "start_time": "2020-12-16T20:04:46.331095Z"
    }
   },
   "outputs": [],
   "source": [
    "data_labels = pd.read_csv(\"../data/alge_data/epoct_ezvir_05dec2018_dictionary.csv\", encoding=\"unicode_escape\")"
   ]
  },
  {
   "cell_type": "code",
   "execution_count": 5,
   "metadata": {
    "ExecuteTime": {
     "end_time": "2020-12-16T20:04:46.662096Z",
     "start_time": "2020-12-16T20:04:46.648092Z"
    }
   },
   "outputs": [],
   "source": [
    "\n",
    "selected=['symp_fever_dur',\n",
    " 'dem_sex',\n",
    " 'date_d30_01',\n",
    " 'sign_skininf',\n",
    " 'sign_respdistress',\n",
    " 'days_of_fever',\n",
    " 'dem_child_house',\n",
    " 'date_season_meteo',\n",
    " 'signv_temp_d0',\n",
    " 'signv_hr1_d0',\n",
    " 'symp_cough',\n",
    " 'signv_muac_d0',\n",
    " 'symp_vomit',\n",
    " 'symp_loa',\n",
    " 'lab_malaria_any_d0',\n",
    " 'dem_age_int',\n",
    " 'symp_diarrhea',\n",
    " 'symp_skin_any',\n",
    " 'signv_waz_d0',\n",
    " 'signv_rr1_d0',\n",
    " 'symp_pharyngitis',\n",
    " 'sign_danger',\n",
    " 'symp_abdopain',\n",
    " 'symp_feveronly',\n",
    " 'dem_mat_educat']"
   ]
  },
  {
   "cell_type": "code",
   "execution_count": 6,
   "metadata": {
    "ExecuteTime": {
     "end_time": "2020-12-16T20:04:46.678096Z",
     "start_time": "2020-12-16T20:04:46.664091Z"
    }
   },
   "outputs": [],
   "source": [
    "data_selected = data[selected]"
   ]
  },
  {
   "cell_type": "code",
   "execution_count": 7,
   "metadata": {
    "ExecuteTime": {
     "end_time": "2020-12-16T20:04:46.868090Z",
     "start_time": "2020-12-16T20:04:46.681094Z"
    }
   },
   "outputs": [],
   "source": [
    "\n",
    "n_patients=len(data_selected)\n"
   ]
  },
  {
   "cell_type": "code",
   "execution_count": 8,
   "metadata": {
    "ExecuteTime": {
     "end_time": "2020-12-16T20:04:46.962090Z",
     "start_time": "2020-12-16T20:04:46.948094Z"
    }
   },
   "outputs": [],
   "source": [
    "data_selected = data_selected[data_selected[\"lab_malaria_any_d0\"].isnull()==False]"
   ]
  },
  {
   "cell_type": "code",
   "execution_count": 10,
   "metadata": {
    "ExecuteTime": {
     "end_time": "2020-12-16T20:04:47.074091Z",
     "start_time": "2020-12-16T20:04:46.979094Z"
    }
   },
   "outputs": [],
   "source": [
    "data_selected.dropna(axis=1,thresh=n_patients*0.8, inplace=True)\n",
    "data_selected.fillna(data_selected.median(), inplace=True)"
   ]
  },
  {
   "cell_type": "code",
   "execution_count": 11,
   "metadata": {
    "ExecuteTime": {
     "end_time": "2020-12-16T20:04:47.184059Z",
     "start_time": "2020-12-16T20:04:47.171066Z"
    }
   },
   "outputs": [],
   "source": [
    "# doing this manually to be sure but should not be\n",
    "\n",
    "numerical = [\"dem_age_int\", \"signv_temp_d0\",\"days_of_fever\",\"signv_rr1_d0\"]\n",
    "null_values = [\"symp_liquidstool\",\"dem_ward_kin\"]\n",
    "non_binary = [\"date_season_meteo\"]\n",
    "confounding = [\"dxlab_malaria_hi\",\"dxlab_malaria_low\", \"dxlab_malaria_hsrdt\"]\n",
    "categorical = list(set(selected)-set(numerical)-set(null_values)-set(non_binary)-set(confounding))\n",
    "all_categorical = categorical+[\"dry\",\"rainy\",\"post-rainy\"]\n",
    "\n",
    "\n",
    "categorical_confounded = list(set(selected)-set(numerical)-set(null_values)-set(non_binary))\n",
    "all_categorical_confounded =  categorical_confounded+[\"date_season_meteo_1\",\"date_season_meteo_2\",\"date_season_meteo_3\"]\n"
   ]
  },
  {
   "cell_type": "code",
   "execution_count": 12,
   "metadata": {
    "ExecuteTime": {
     "end_time": "2020-12-16T20:04:47.199060Z",
     "start_time": "2020-12-16T20:04:47.186063Z"
    }
   },
   "outputs": [],
   "source": [
    "from sklearn.preprocessing import MinMaxScaler"
   ]
  },
  {
   "cell_type": "code",
   "execution_count": 14,
   "metadata": {
    "ExecuteTime": {
     "end_time": "2020-12-16T20:04:47.231095Z",
     "start_time": "2020-12-16T20:04:47.201092Z"
    }
   },
   "outputs": [],
   "source": [
    "le = LabelEncoder()\n",
    "mms = MinMaxScaler()\n",
    "\n",
    "\n",
    "data_numerical = pd.DataFrame(mms.fit_transform(data_selected[numerical]), columns=numerical)\n",
    "data_ml = data_selected[categorical]\n",
    "data_ml = pd.get_dummies(data_selected[\"date_season_meteo\"], \n",
    "                         prefix=\"season\")\\\n",
    "                        .merge(data_ml,\n",
    "                               left_index=True,\n",
    "                               right_index=True)\\\n",
    "                        .merge(data_numerical,\n",
    "                               left_index=True,\n",
    "                               right_index=True)\\\n",
    "                        .rename({\"season_1\":\"dry\",\n",
    "                                \"season_2\":\"rainy\",\n",
    "                                \"season_3\":\"post-rainy\"},\n",
    "                               axis=1)"
   ]
  },
  {
   "cell_type": "markdown",
   "metadata": {},
   "source": [
    "Here we separate the data between label (y) and features (X)"
   ]
  },
  {
   "cell_type": "code",
   "execution_count": 16,
   "metadata": {
    "ExecuteTime": {
     "end_time": "2020-12-16T20:04:47.279095Z",
     "start_time": "2020-12-16T20:04:47.265092Z"
    }
   },
   "outputs": [],
   "source": [
    "y_label= [\"lab_malaria_any_d0\"]\n",
    "\n",
    "X_labels = list(set(data_ml.columns)-set(y_label))\n",
    "\n",
    "\n",
    "X = data_ml[X_labels]\n",
    "y = data_ml[y_label]\n",
    "\n"
   ]
  },
  {
   "cell_type": "code",
   "execution_count": 18,
   "metadata": {
    "ExecuteTime": {
     "end_time": "2020-12-16T20:04:47.737059Z",
     "start_time": "2020-12-16T20:04:47.723060Z"
    }
   },
   "outputs": [],
   "source": [
    "from imblearn.over_sampling import RandomOverSampler, SMOTE, SMOTENC\n",
    "from imblearn.combine import SMOTETomek"
   ]
  },
  {
   "cell_type": "code",
   "execution_count": 21,
   "metadata": {},
   "outputs": [],
   "source": [
    "train_X, val_X, train_y, val_y = train_test_split(X, y, random_state=0)"
   ]
  },
  {
   "cell_type": "code",
   "execution_count": 28,
   "metadata": {
    "ExecuteTime": {
     "end_time": "2020-12-16T20:04:47.768060Z",
     "start_time": "2020-12-16T20:04:47.739061Z"
    }
   },
   "outputs": [],
   "source": [
    "ros_auto = RandomOverSampler(random_state=0, sampling_strategy=\"auto\")\n",
    "train_X_ros, train_y_ros = ros_auto.fit_sample(train_X, train_y[\"lab_malaria_any_d0\"])\n",
    "\n",
    "smote_auto = SMOTE(random_state=0, sampling_strategy=\"auto\")\n",
    "train_X_smote, train_y_smote = smote_auto.fit_sample(train_X, train_y[\"lab_malaria_any_d0\"])\n",
    "\n",
    "smotenc = SMOTENC(random_state=0, sampling_strategy=\"auto\", categorical_features=categorical_index)\n",
    "train_X_smotenc, train_y_smotenc = smote_nc.fit_sample(train_X, train_y[\"lab_malaria_any_d0\"])\n",
    "\n",
    "smote_tomek = SMOTETomek(random_state=0, sampling_strategy=\"auto\")\n",
    "train_X_smote_tomek, train_y_smote_tomek = smote_tomek.fit_sample(train_X, train_y[\"lab_malaria_any_d0\"])\n"
   ]
  },
  {
   "cell_type": "code",
   "execution_count": 29,
   "metadata": {},
   "outputs": [],
   "source": [
    "import time"
   ]
  },
  {
   "cell_type": "code",
   "execution_count": 30,
   "metadata": {
    "ExecuteTime": {
     "end_time": "2020-12-16T20:04:48.736060Z",
     "start_time": "2020-12-16T20:04:47.818060Z"
    }
   },
   "outputs": [],
   "source": [
    "start = time.time()\n",
    "rf = RandomForestClassifier(n_estimators=100, random_state=0).fit(train_X, np.ravel(train_y))\n",
    "stop = time.time()\n",
    "t = stop-start\n",
    "\n",
    "start = time.time()\n",
    "rf_ros = RandomForestClassifier(n_estimators=100, random_state=0).fit(train_X_ros, np.ravel(train_y_ros))\n",
    "stop = time.time()\n",
    "t_ros = stop-start\n",
    "\n",
    "start = time.time()\n",
    "rf_smote = RandomForestClassifier(n_estimators=100, random_state=0).fit(train_X_smote, np.ravel(train_y_smote))\n",
    "stop = time.time()\n",
    "t_smote = stop-start\n",
    "\n",
    "start = time.time()\n",
    "rf_smotenc = RandomForestClassifier(n_estimators=100, random_state=0).fit(train_X_smotenc, np.ravel(train_y_smotenc))\n",
    "stop = time.time()\n",
    "t_smotenc = stop-start\n",
    "\n",
    "start = time.time()\n",
    "rf_smote_tomek = RandomForestClassifier(n_estimators=100, random_state=0).fit(train_X_smote_tomek, np.ravel(train_y_smote_tomek))\n",
    "stop = time.time()\n",
    "t_smote_tomek = stop-start\n"
   ]
  },
  {
   "cell_type": "code",
   "execution_count": 32,
   "metadata": {},
   "outputs": [],
   "source": [
    "import sklearn"
   ]
  },
  {
   "cell_type": "code",
   "execution_count": 34,
   "metadata": {
    "scrolled": false
   },
   "outputs": [
    {
     "name": "stdout",
     "output_type": "stream",
     "text": [
      "rf \n",
      "accuracy 0.8753541076487252 \n",
      "precision 1.0 \n",
      "recall 0.011235955056179775\n",
      "AUC 0.5056179775280899\n",
      "\n",
      "\n",
      "rf_ros \n",
      "accuracy 0.8753541076487252 \n",
      "precision 0.5555555555555556 \n",
      "recall 0.056179775280898875\n",
      "AUC 0.5248483965545498\n",
      "\n",
      "\n",
      "rf_smote \n",
      "accuracy 0.8611898016997167 \n",
      "precision 0.3783783783783784 \n",
      "recall 0.15730337078651685\n",
      "AUC 0.5600131116493362\n",
      "\n",
      "\n",
      "rf_smotenc \n",
      "accuracy 0.8243626062322946 \n",
      "precision 0.21311475409836064 \n",
      "recall 0.14606741573033707\n",
      "AUC 0.5341358148343743\n",
      "\n",
      "\n",
      "rf_smote_tomek \n",
      "accuracy 0.8555240793201133 \n",
      "precision 0.3142857142857143 \n",
      "recall 0.12359550561797752\n",
      "AUC 0.5423488062935917\n",
      "\n",
      "\n"
     ]
    }
   ],
   "source": [
    "models = [ rf, rf_ros, rf_smote, rf_smotenc, rf_smote_tomek]\n",
    "\n",
    "names = [ \"rf\", \"rf_ros\", \"rf_smote\", \"rf_smotenc\", \"rf_smote_tomek\"]\n",
    "\n",
    "\n",
    "for idx, val in enumerate(models):\n",
    "    preds = val.predict(val_X)\n",
    "    accuracy = sklearn.metrics.accuracy_score(y_pred = preds,y_true = val_y)\n",
    "    precision = sklearn.metrics.precision_score(y_pred = preds,y_true = val_y)\n",
    "    recall = sklearn.metrics.recall_score(y_pred = preds,y_true = val_y)\n",
    "    roc_auc = sklearn.metrics.roc_auc_score(y_score = preds, y_true = val_y)\n",
    "\n",
    "    print(\"{} \\naccuracy {} \\nprecision {} \\nrecall {}\\nAUC {}\\n\\n\".format(names[idx],\n",
    "                                                                           accuracy, \n",
    "                                                                           precision, \n",
    "                                                                           recall, \n",
    "                                                                           roc_auc,))\n",
    "    \n",
    "        \n",
    "        "
   ]
  },
  {
   "cell_type": "markdown",
   "metadata": {},
   "source": [
    "ok what about if we also oversample the test set and do the test train split afterwards?"
   ]
  },
  {
   "cell_type": "code",
   "execution_count": null,
   "metadata": {},
   "outputs": [],
   "source": []
  }
 ],
 "metadata": {
  "kernelspec": {
   "display_name": "Python 3",
   "language": "python",
   "name": "python3"
  },
  "language_info": {
   "codemirror_mode": {
    "name": "ipython",
    "version": 3
   },
   "file_extension": ".py",
   "mimetype": "text/x-python",
   "name": "python",
   "nbconvert_exporter": "python",
   "pygments_lexer": "ipython3",
   "version": "3.7.9"
  },
  "toc": {
   "base_numbering": 1,
   "nav_menu": {},
   "number_sections": true,
   "sideBar": true,
   "skip_h1_title": false,
   "title_cell": "Table of Contents",
   "title_sidebar": "Contents",
   "toc_cell": false,
   "toc_position": {
    "height": "684px",
    "left": "360px",
    "top": "280.778px",
    "width": "338.125px"
   },
   "toc_section_display": true,
   "toc_window_display": true
  }
 },
 "nbformat": 4,
 "nbformat_minor": 4
}
