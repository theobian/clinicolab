{
 "cells": [
  {
   "cell_type": "markdown",
   "metadata": {},
   "source": [
    "**to do**\n",
    "make pca on X values and color code with the model prediction see and compare with the color code being the truth value"
   ]
  },
  {
   "cell_type": "code",
   "execution_count": 3,
   "metadata": {
    "ExecuteTime": {
     "end_time": "2020-12-22T22:15:32.140425Z",
     "start_time": "2020-12-22T22:15:32.122475Z"
    }
   },
   "outputs": [],
   "source": [
    "import numpy as np\n",
    "import pandas as pd\n",
    "from sklearn.model_selection import train_test_split\n",
    "from sklearn.ensemble import RandomForestClassifier, RandomForestRegressor\n",
    "from sklearn.tree import DecisionTreeClassifier\n",
    "from sklearn.preprocessing import LabelEncoder\n",
    "import sklearn.metrics as metrics\n",
    "\n",
    "import time\n",
    "\n",
    "import os\n",
    "\n",
    "import eli5\n",
    "\n",
    "from sklearn import tree\n",
    "import graphviz\n",
    "\n",
    "from matplotlib import pyplot as plt\n",
    "from pdpbox import pdp, get_dataset, info_plots\n",
    "\n",
    "import shap\n",
    "\n",
    "import warnings\n",
    "\n",
    "import scipy as sp\n",
    "\n",
    "import lime\n",
    "from lime import lime_tabular\n",
    "import lightgbm as lgb\n",
    "import seaborn as sns\n",
    "\n",
    "import imblearn"
   ]
  },
  {
   "cell_type": "code",
   "execution_count": 4,
   "metadata": {
    "ExecuteTime": {
     "end_time": "2020-12-22T22:15:32.564661Z",
     "start_time": "2020-12-22T22:15:32.556773Z"
    }
   },
   "outputs": [
    {
     "data": {
      "text/plain": [
       "['epoct_ezvir_05dec2018_dictionary.csv',\n",
       " 'epoct_ezvir_05dec2018_labeled.csv',\n",
       " 'epoct_ezvir_05dec2018_unlabeled - Edit.csv',\n",
       " 'epoct_ezvir_05dec2018_unlabeled.csv',\n",
       " 'epoct_ezvir_05dec2018_unlabeled_Jan.csv']"
      ]
     },
     "execution_count": 4,
     "metadata": {},
     "output_type": "execute_result"
    }
   ],
   "source": [
    "os.listdir(\"../data/alge_data/\")"
   ]
  },
  {
   "cell_type": "code",
   "execution_count": 67,
   "metadata": {
    "ExecuteTime": {
     "end_time": "2020-12-22T23:13:41.086093Z",
     "start_time": "2020-12-22T23:13:40.945578Z"
    }
   },
   "outputs": [],
   "source": [
    "data = pd.read_csv(\"../data/alge_data/epoct_ezvir_05dec2018_unlabeled_Jan.csv\")"
   ]
  },
  {
   "cell_type": "code",
   "execution_count": 38,
   "metadata": {
    "ExecuteTime": {
     "end_time": "2020-12-22T23:07:32.042922Z",
     "start_time": "2020-12-22T23:07:32.032150Z"
    }
   },
   "outputs": [],
   "source": [
    "data_labels = pd.read_csv(\"../data/alge_data/epoct_ezvir_05dec2018_dictionary.csv\", encoding=\"unicode_escape\")"
   ]
  },
  {
   "cell_type": "code",
   "execution_count": 96,
   "metadata": {
    "ExecuteTime": {
     "end_time": "2020-12-22T23:23:33.695938Z",
     "start_time": "2020-12-22T23:23:33.687912Z"
    }
   },
   "outputs": [],
   "source": [
    "X_names = [\"dem_age_int\",\n",
    "           \"dem_sex\",  \n",
    "            \"signv_temp_d0\",\n",
    "            \"symp_abdopain\",\n",
    "            \"sign_restless_d0\",\n",
    "            \"sign_danger\",\n",
    "            \"symp_cough\",\n",
    "            \"symp_feveronly\",\n",
    "            \"symp_vomit\",\n",
    "            \"signv_rr1_d0\",\n",
    "            \"days_of_fever\",           \n",
    "]\n",
    "\n",
    "y_names = [\"lab_malaria_any_d0\",]\n",
    "\n"
   ]
  },
  {
   "cell_type": "code",
   "execution_count": 97,
   "metadata": {
    "ExecuteTime": {
     "end_time": "2020-12-22T23:23:38.605956Z",
     "start_time": "2020-12-22T23:23:37.772404Z"
    }
   },
   "outputs": [],
   "source": [
    "X = data[X_names]\n",
    "y = data[y_names]\n",
    "\n",
    "X.fillna(X.median(), inplace=True)\n",
    "y.fillna(y.median(), inplace=True)"
   ]
  },
  {
   "cell_type": "code",
   "execution_count": 98,
   "metadata": {
    "ExecuteTime": {
     "end_time": "2020-12-22T23:23:40.241172Z",
     "start_time": "2020-12-22T23:23:40.230173Z"
    }
   },
   "outputs": [],
   "source": [
    "train_X, val_X, train_y, val_y = train_test_split(X, y, random_state=1)"
   ]
  },
  {
   "cell_type": "code",
   "execution_count": 99,
   "metadata": {
    "ExecuteTime": {
     "end_time": "2020-12-22T23:23:41.432548Z",
     "start_time": "2020-12-22T23:23:41.211949Z"
    }
   },
   "outputs": [],
   "source": [
    "model_forest = RandomForestClassifier(n_estimators=100, random_state=0).fit(train_X, np.ravel(train_y))"
   ]
  },
  {
   "cell_type": "code",
   "execution_count": 100,
   "metadata": {
    "ExecuteTime": {
     "end_time": "2020-12-22T23:23:42.714069Z",
     "start_time": "2020-12-22T23:23:42.698941Z"
    }
   },
   "outputs": [],
   "source": [
    "from sklearn.preprocessing import MinMaxScaler, LabelEncoder"
   ]
  },
  {
   "cell_type": "code",
   "execution_count": 101,
   "metadata": {
    "ExecuteTime": {
     "end_time": "2020-12-22T23:23:43.508981Z",
     "start_time": "2020-12-22T23:23:43.478811Z"
    }
   },
   "outputs": [],
   "source": [
    "le = LabelEncoder()\n",
    "mms = MinMaxScaler()\n",
    "\n",
    "numerical=[\"dem_age_int\",\"signv_temp_d0\",\"signv_rr1_d0\",\"days_of_fever\"]\n",
    "categorical=[\"dem_sex\",\"symp_abdopain\",\"sign_restless_d0\",\"sign_danger\",\"symp_cough\",\"symp_feveronly\",\"symp_vomit\"]\n",
    "\n",
    "\n",
    "data_numerical = pd.DataFrame(mms.fit_transform(X[numerical]), columns=numerical)\n",
    "data_ml = X[categorical]\n",
    "data_ml = data_ml.apply(le.fit_transform)\n",
    "\n"
   ]
  },
  {
   "cell_type": "code",
   "execution_count": 107,
   "metadata": {
    "ExecuteTime": {
     "end_time": "2020-12-22T23:26:15.460503Z",
     "start_time": "2020-12-22T23:26:15.239242Z"
    }
   },
   "outputs": [],
   "source": [
    "X_norm= pd.merge(data_ml, data_numerical, left_index=True, right_index=True)\n",
    "train_X_norm, val_X_norm, train_y_norm, val_y_norm = train_test_split(X_norm, y, random_state=1)\n",
    "\n",
    "model_forest_norm = RandomForestClassifier(n_estimators=100, random_state=0).fit(train_X_norm, np.ravel(train_y_norm))"
   ]
  },
  {
   "cell_type": "code",
   "execution_count": 110,
   "metadata": {
    "ExecuteTime": {
     "end_time": "2020-12-22T23:28:58.735130Z",
     "start_time": "2020-12-22T23:28:58.730924Z"
    }
   },
   "outputs": [],
   "source": [
    "from imblearn.over_sampling import RandomOverSampler"
   ]
  },
  {
   "cell_type": "code",
   "execution_count": 114,
   "metadata": {
    "ExecuteTime": {
     "end_time": "2020-12-22T23:30:18.775430Z",
     "start_time": "2020-12-22T23:30:18.523403Z"
    }
   },
   "outputs": [],
   "source": [
    "ros = RandomOverSampler(random_state=0, sampling_strategy=0.3)\n",
    "X_ros, y_ros = ros.fit_sample(X_norm, y[\"lab_malaria_any_d0\"])\n",
    "train_X_ros, val_X_ros, train_y_ros, val_y_ros = train_test_split(X_ros, y_ros, random_state=1)\n",
    "\n",
    "\n",
    "model_forest_norm_ros = RandomForestClassifier(n_estimators=100, random_state=0).fit(train_X_ros, np.ravel(train_y_ros))"
   ]
  },
  {
   "cell_type": "code",
   "execution_count": 116,
   "metadata": {
    "ExecuteTime": {
     "end_time": "2020-12-22T23:31:09.013470Z",
     "start_time": "2020-12-22T23:31:08.932483Z"
    }
   },
   "outputs": [
    {
     "name": "stdout",
     "output_type": "stream",
     "text": [
      "Random forest: simple \n",
      "accuracy 0.8959899749373433 \n",
      "precision 0.10588235294117647 \n",
      "recall 0.5625\n",
      "\n",
      "\n",
      "Random forest:with normalized features \n",
      "accuracy 0.8909774436090225 \n",
      "precision 0.09411764705882353 \n",
      "recall 0.4444444444444444\n",
      "\n",
      "\n",
      "Random Forest with normalized and oversampled fatures \n",
      "accuracy 0.9507494646680942 \n",
      "precision 0.8724489795918368 \n",
      "recall 0.890625\n",
      "\n",
      "\n"
     ]
    }
   ],
   "source": [
    "validation_data = [val_X, val_X_norm, val_X_ros]\n",
    "validation_label = [val_y, val_y_norm, val_y_ros]\n",
    "models = [model_forest, model_forest_norm, model_forest_norm_ros]\n",
    "names = [\"Random forest: simple\",\"Random forest:with normalized features\",\"Random Forest with normalized and oversampled fatures\"]\n",
    "\n",
    "for idx, val in enumerate(models):\n",
    "    model_preds = val.predict(validation_data[idx])\n",
    "    accuracy = metrics.accuracy_score(model_preds,validation_label[idx])\n",
    "    precision = metrics.precision_score(model_preds,validation_label[idx])\n",
    "    recall = metrics.recall_score(model_preds,validation_label[idx])\n",
    "    print(\"{} \\naccuracy {} \\nprecision {} \\nrecall {}\\n\\n\".format(names[idx],accuracy, precision, recall))"
   ]
  }
 ],
 "metadata": {
  "kernelspec": {
   "display_name": "Python 3",
   "language": "python",
   "name": "python3"
  },
  "language_info": {
   "codemirror_mode": {
    "name": "ipython",
    "version": 3
   },
   "file_extension": ".py",
   "mimetype": "text/x-python",
   "name": "python",
   "nbconvert_exporter": "python",
   "pygments_lexer": "ipython3",
   "version": "3.7.1"
  },
  "toc": {
   "base_numbering": 1,
   "nav_menu": {},
   "number_sections": true,
   "sideBar": true,
   "skip_h1_title": false,
   "title_cell": "Table of Contents",
   "title_sidebar": "Contents",
   "toc_cell": false,
   "toc_position": {
    "height": "684px",
    "left": "360px",
    "top": "280.778px",
    "width": "338.125px"
   },
   "toc_section_display": true,
   "toc_window_display": true
  }
 },
 "nbformat": 4,
 "nbformat_minor": 2
}
